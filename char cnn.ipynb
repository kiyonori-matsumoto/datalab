{
 "cells": [
  {
   "cell_type": "code",
   "execution_count": 5,
   "metadata": {
    "collapsed": false
   },
   "outputs": [],
   "source": [
    "import tensorflow as tf\n",
    "import numpy as np\n",
    "import pandas as pd\n",
    "\n",
    "from keras.models import Model\n",
    "from keras.layers import Input, Conv2D, MaxPooling2D, Concatenate\n",
    "from keras.layers.core import Dense, Reshape, Dropout\n",
    "from keras.layers.embeddings import Embedding\n",
    "from keras.layers.normalization import BatchNormalization"
   ]
  },
  {
   "cell_type": "code",
   "execution_count": 8,
   "metadata": {
    "collapsed": true
   },
   "outputs": [],
   "source": [
    "def create_model(embed_size=128, max_length=300, filter_sizes=(2,3,4,5), filter_num=64, dropout=0.5):\n",
    "  inp = Input(shape=(max_length,))\n",
    "  emb = Embedding(0xffff, embed_size)(inp)\n",
    "  emb_ex = Reshape((max_length, embed_size, 1))(emb)\n",
    "  convs = []\n",
    "  \n",
    "  for filter_size in filter_sizes:\n",
    "    conv = Conv2D(filter_num, (filter_size, embed_size), activation=\"relu\")(emb_ex)\n",
    "    pool = MaxPooling2D(pool_size=(max_length - filter_size + 1, 1))(conv)\n",
    "    convs.append(pool)\n",
    "    \n",
    "  convs_merged = Concatenate()(convs)\n",
    "  reshape = Reshape((filter_num * len(filter_sizes), ))(convs_merged)\n",
    "  fc1 = Dense(64, activation=\"relu\")(reshape)\n",
    "  bn1 = BatchNormalization()(fc1)\n",
    "  do1 = Dropout(dropout)(bn1)\n",
    "  fc2 = Dense(1, activation='sigmoid')(do1)\n",
    "  model = Model(inputs=inp, outputs=fc2)\n",
    "  return model"
   ]
  },
  {
   "cell_type": "code",
   "execution_count": 9,
   "metadata": {
    "collapsed": false
   },
   "outputs": [
    {
     "data": {
      "text/plain": [
       "<keras.engine.training.Model at 0x7fe9ec47bda0>"
      ]
     },
     "execution_count": 9,
     "metadata": {},
     "output_type": "execute_result"
    }
   ],
   "source": [
    "create_model()"
   ]
  },
  {
   "cell_type": "code",
   "execution_count": null,
   "metadata": {
    "collapsed": true
   },
   "outputs": [],
   "source": []
  }
 ],
 "metadata": {
  "kernelspec": {
   "display_name": "Python 3",
   "language": "python",
   "name": "python3"
  },
  "language_info": {
   "codemirror_mode": {
    "name": "ipython",
    "version": 3
   },
   "file_extension": ".py",
   "mimetype": "text/x-python",
   "name": "python",
   "nbconvert_exporter": "python",
   "pygments_lexer": "ipython3",
   "version": "3.5.2"
  }
 },
 "nbformat": 4,
 "nbformat_minor": 2
}
